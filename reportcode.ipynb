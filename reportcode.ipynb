{
 "cells": [
  {
   "cell_type": "markdown",
   "id": "ba0529ad",
   "metadata": {},
   "source": [
    "# BBM409 : Introduction to Machine Learning Lab. Assignment 2"
   ]
  },
  {
   "cell_type": "markdown",
   "id": "a38b68d9",
   "metadata": {},
   "source": [
    "#### PROBLEM DEFINITION :\n",
    "\n",
    "    \n",
    "In this assignment, we were asked to understand and familiarize with the decision tree algorithm. We will experiment with decision tree model (by using ID3 algorithm) on the Diabetes Risk Prediction dataset.\n",
    "\n",
    "    \n",
    "In the first part of the experiment, we implemented a decision tree model for predicting whether a patient is a potential diabetic or not. For this experiment, we split our data into two parts. Training and test.\n",
    "\n",
    "    \n",
    "In the second part of the experiment, we pruned the twigs of the tree that we created at the first part. This process prevents overfit our decision tree. For this experiment, we split our data into three parts. Training, validation and test."
   ]
  },
  {
   "cell_type": "code",
   "execution_count": null,
   "id": "fb3a1cc3",
   "metadata": {},
   "outputs": [],
   "source": [
    "!pip install -r requirements.txt"
   ]
  },
  {
   "cell_type": "markdown",
   "id": "c4d4e429",
   "metadata": {},
   "source": [
    "First, we need to install the packages specified in the requirements.txt file."
   ]
  },
  {
   "cell_type": "markdown",
   "id": "6feaa207",
   "metadata": {},
   "source": [
    "## Imports"
   ]
  },
  {
   "cell_type": "markdown",
   "id": "dd145aa4",
   "metadata": {},
   "source": [
    "We imported the necessary packages and modules."
   ]
  },
  {
   "cell_type": "code",
   "execution_count": null,
   "id": "fa1a9da0",
   "metadata": {},
   "outputs": [],
   "source": [
    "from math import log\n",
    "import numpy as np\n",
    "import pandas as pd\n",
    "from numpy.lib.shape_base import column_stack"
   ]
  },
  {
   "cell_type": "code",
   "execution_count": null,
   "id": "0633167b",
   "metadata": {},
   "outputs": [],
   "source": [
    "%matplotlib inline"
   ]
  },
  {
   "cell_type": "markdown",
   "id": "84ff0c92",
   "metadata": {},
   "source": [
    "### Encoder of the Age Attribute Method"
   ]
  },
  {
   "cell_type": "markdown",
   "id": "8c2d127b",
   "metadata": {},
   "source": []
  },
  {
   "cell_type": "code",
   "execution_count": null,
   "id": "1d99ce44",
   "metadata": {},
   "outputs": [],
   "source": [
    "def encode_age(column, max, min):\n",
    "    _range = ((max-min)/5)\n",
    "    \n",
    "    intervals = []\n",
    "\n",
    "    for index in range(1,6):\n",
    "        temp_max = min+_range\n",
    "\n",
    "        intervals.append((int(min), int(temp_max)))\n",
    "        min = temp_max\n",
    "        #min = temp_max\n",
    "\n",
    "    encoded = []\n",
    "    for age in column:\n",
    "        for index, interval in enumerate(intervals):\n",
    "            __range = range(interval[0],interval[1]+1)\n",
    "            if age in __range:\n",
    "                encoded.append(index)\n",
    "                break\n",
    "    \n",
    "    return encoded\n",
    "        "
   ]
  },
  {
   "cell_type": "markdown",
   "id": "aff9d9fe",
   "metadata": {},
   "source": [
    "### Encoder of the ** Method"
   ]
  },
  {
   "cell_type": "code",
   "execution_count": null,
   "id": "16b3a9ae",
   "metadata": {},
   "outputs": [],
   "source": []
  },
  {
   "cell_type": "code",
   "execution_count": null,
   "id": "cbea15d9",
   "metadata": {},
   "outputs": [],
   "source": [
    "\n",
    "def encode_features(data):\n",
    "\n",
    "    # get columns which includes yes or no as a value\n",
    "    binary_columns = data.columns.tolist()\n",
    "    binary_columns.remove(\"Age\")\n",
    "\n",
    "    # Appling binary encoding to 'Age' column\n",
    "    ages = data[\"Age\"].tolist()\n",
    "    max_age = max(ages)\n",
    "    min_age = min(ages)\n",
    "    \n",
    "\n",
    "    encoded_ages = encode_age(ages, max_age, min_age)\n",
    "  \n",
    "    # replace age column with encoded version\n",
    "    data[\"Age\"] = encoded_ages\n",
    "\n",
    "    for col in binary_columns:\n",
    "        values_array = np.unique(data[col].tolist())\n",
    "        if not ((\"Yes\" in values_array[0]) or (\"Positive\" in values_array[0])):\n",
    "            # little configuration for giving 1 for Yes and 0 for No \n",
    "            values_array = values_array[::-1]\n",
    "        \n",
    "        data[col] = data[col].apply(lambda x:1 if x==values_array[0] else 0)\n",
    "\n",
    "    \n",
    "    return data "
   ]
  },
  {
   "cell_type": "markdown",
   "id": "78c107ba",
   "metadata": {},
   "source": [
    "### Node Class"
   ]
  },
  {
   "cell_type": "markdown",
   "id": "115b3292",
   "metadata": {},
   "source": [
    "Node class that creates each leaf or node of the decision tree."
   ]
  },
  {
   "cell_type": "code",
   "execution_count": null,
   "id": "17007adc",
   "metadata": {},
   "outputs": [],
   "source": [
    "class Node:\n",
    "    # Feature column index\n",
    "    value = None\n",
    "    \n",
    "\n",
    "    is_leaf = None\n",
    "\n",
    "    # [feature1, feature2] \n",
    "    children = None\n",
    "\n",
    "    # not None for leaves    \n",
    "    out_class = None\n",
    "\n",
    "    def __init__(self, value=None):\n",
    "        self.value = value\n",
    "        self.is_leaf = False\n",
    "        self.children = []\n"
   ]
  },
  {
   "cell_type": "markdown",
   "id": "5aff41d1",
   "metadata": {},
   "source": [
    "### DecisionTree Class"
   ]
  },
  {
   "cell_type": "markdown",
   "id": "e264744a",
   "metadata": {},
   "source": [
    "Decision tree class that makes up fundemental decision tree with the specific methods."
   ]
  },
  {
   "cell_type": "code",
   "execution_count": null,
   "id": "a7053081",
   "metadata": {},
   "outputs": [],
   "source": [
    "class DecisionTree:\n",
    "\n",
    "\n",
    "\n",
    "    def __init__(self):\n",
    "        self.head = Node()\n",
    "\n",
    "    def calculate_gains(self, set):\n",
    "        # fetaure based entropies and information gains\n",
    "        gains = []\n",
    "        for column in range(set.shape[1]-1):\n",
    "            information = 0\n",
    "            for value in np.unique(set[:,column]):\n",
    "                # filter for attribute value\n",
    "                temp_filter = (set[:,column] == value)\n",
    "                \n",
    "                # using that filter to get attributes\n",
    "                temp_samples = set[temp_filter]\n",
    "\n",
    "                # calculate entropy and number of samples\n",
    "                temp_entropy, temp_pos, temp_neg = self.calculate_entropy(temp_samples)\n",
    "                \n",
    "                # calculate ratio of relevant attribute\n",
    "                temp_ratio = (temp_pos+temp_neg)/(self.num_pos+self.num_neg)\n",
    "                \n",
    "                # summing the result with information\n",
    "                information += (temp_entropy*temp_ratio)\n",
    "                #print((temp_entropy*temp_ratio))\n",
    "            \n",
    "            gain = self.dataset_entropy-information\n",
    "\n",
    "            #print(f\"For column {column}, gain: {gain}\")\n",
    "            gains.append((column, gain))\n",
    "        \n",
    "        gains = sorted(gains, key=lambda x:x[1], reverse=True)\n",
    "        # print(len(gains))\n",
    "        return gains[0]\n",
    "\n",
    "\n",
    "    def fit(self, X, y):\n",
    "        data = np.concatenate((X,y), axis=1)\n",
    "        dataset_entropy, num_pos, num_neg = self.calculate_entropy(data)\n",
    "\n",
    "        # setting attributes\n",
    "        # features\n",
    "        self.X = X\n",
    "        # labels\n",
    "        self.y = y\n",
    "        # all dataset\n",
    "        self.data = data\n",
    "        # number of positive examples\n",
    "        self.num_pos = num_pos\n",
    "        # number of negative examples\n",
    "        self.num_neg = num_neg\n",
    "        # all dataset's entropy\n",
    "        self.dataset_entropy = dataset_entropy\n",
    "\n",
    "        chosen_feature = self.calculate_gains(data) # (chosen, gain)\n",
    "        print(chosen_feature)\n",
    "\n",
    "\n",
    "\n",
    "    def predict(self, X):\n",
    "        pass \n",
    "\n",
    "\n",
    "    def calculate_entropy(self, X):\n",
    "        positives = X[X[:,-1]==1]\n",
    "        negatives = X[X[:,-1]==0]\n",
    "\n",
    "        num_pos = positives.shape[0]\n",
    "        num_neg = negatives.shape[0]\n",
    "        num_total = num_pos+num_neg\n",
    "        \n",
    "        p_ratio = num_pos/num_total\n",
    "        n_ratio = num_neg/num_total\n",
    "\n",
    "        log_p = log(p_ratio, 2) if not p_ratio == 0 else 0\n",
    "        log_n = log(n_ratio, 2) if not n_ratio == 0 else 0\n",
    "\n",
    "        entropy = (-p_ratio*log_p)-(n_ratio*log_n)\n",
    "\n",
    "        return entropy, num_pos, num_neg\n",
    "\n",
    "    def calculate_gain(self, X, feature=None):\n",
    "        pass"
   ]
  },
  {
   "cell_type": "code",
   "execution_count": null,
   "id": "7e8b3f80",
   "metadata": {},
   "outputs": [],
   "source": []
  },
  {
   "cell_type": "code",
   "execution_count": null,
   "id": "c215f994",
   "metadata": {},
   "outputs": [],
   "source": [
    "def main():\n",
    "\n",
    "    data = pd.read_csv(\"diabetes_data_upload.csv\")\n",
    "\n",
    "    data = encode_features(data)   \n",
    "\n",
    "    #data.to_csv(\"test.csv\",index=False)\n",
    "    \n",
    "    tree = DecisionTree()\n",
    "    \n",
    "    data = np.array(data)\n",
    "    \n",
    "    \n",
    "    X = data[:,:-1]\n",
    "    y = data[:,-1].reshape(-1,1)\n",
    "    tree.fit(X, y)\n",
    "    \n",
    "\n",
    "\n",
    "if __name__ == \"__main__\":\n",
    "    main()"
   ]
  }
 ],
 "metadata": {
  "kernelspec": {
   "display_name": "Python 3 (ipykernel)",
   "language": "python",
   "name": "python3"
  },
  "language_info": {
   "codemirror_mode": {
    "name": "ipython",
    "version": 3
   },
   "file_extension": ".py",
   "mimetype": "text/x-python",
   "name": "python",
   "nbconvert_exporter": "python",
   "pygments_lexer": "ipython3",
   "version": "3.8.12"
  }
 },
 "nbformat": 4,
 "nbformat_minor": 5
}
